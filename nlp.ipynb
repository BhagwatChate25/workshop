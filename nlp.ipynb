{
 "cells": [
  {
   "cell_type": "markdown",
   "metadata": {},
   "source": [
    "# NLP processing of the file we synced"
   ]
  },
  {
   "cell_type": "code",
   "execution_count": 1,
   "metadata": {},
   "outputs": [],
   "source": [
    "# nuclio: ignore\n",
    "# if the nuclio-jupyter package is not installed run !pip install nuclio-jupyter\n",
    "import nuclio "
   ]
  },
  {
   "cell_type": "code",
   "execution_count": 2,
   "metadata": {},
   "outputs": [
    {
     "name": "stdout",
     "output_type": "stream",
     "text": [
      "Collecting textblob\n",
      "  Downloading textblob-0.15.3-py2.py3-none-any.whl (636 kB)\n",
      "\u001b[K     |████████████████████████████████| 636 kB 667 kB/s eta 0:00:01\n",
      "\u001b[?25hCollecting nltk>=3.1\n",
      "  Downloading nltk-3.5.zip (1.4 MB)\n",
      "\u001b[K     |████████████████████████████████| 1.4 MB 6.7 MB/s eta 0:00:01\n",
      "\u001b[?25hRequirement already satisfied: click in /opt/conda/lib/python3.8/site-packages (from nltk>=3.1->textblob) (7.0)\n",
      "Requirement already satisfied: joblib in /opt/conda/lib/python3.8/site-packages (from nltk>=3.1->textblob) (0.17.0)\n",
      "Collecting regex\n",
      "  Downloading regex-2020.11.13-cp38-cp38-manylinux2014_x86_64.whl (738 kB)\n",
      "\u001b[K     |████████████████████████████████| 738 kB 2.5 MB/s eta 0:00:01\n",
      "\u001b[?25hRequirement already satisfied: tqdm in /opt/conda/lib/python3.8/site-packages (from nltk>=3.1->textblob) (4.51.0)\n",
      "Building wheels for collected packages: nltk\n",
      "  Building wheel for nltk (setup.py) ... \u001b[?25ldone\n",
      "\u001b[?25h  Created wheel for nltk: filename=nltk-3.5-py3-none-any.whl size=1434672 sha256=697486b65bd9327d6b3578a8afd069c708c2600572a6615182fa990202cd151f\n",
      "  Stored in directory: /home/jovyan/.cache/pip/wheels/ff/d5/7b/f1fb4e1e1603b2f01c2424dd60fbcc50c12ef918bafc44b155\n",
      "Successfully built nltk\n",
      "Installing collected packages: regex, nltk, textblob\n",
      "Successfully installed nltk-3.5 regex-2020.11.13 textblob-0.15.3\n",
      "%nuclio: setting spec.build.baseImage to 'mlrun/mlrun'\n"
     ]
    }
   ],
   "source": [
    "# package dependencies \n",
    "%nuclio cmd pip install textblob\n",
    "%nuclio config spec.build.baseImage = \"mlrun/mlrun\""
   ]
  },
  {
   "cell_type": "markdown",
   "metadata": {},
   "source": [
    "### function code:"
   ]
  },
  {
   "cell_type": "code",
   "execution_count": 3,
   "metadata": {},
   "outputs": [],
   "source": [
    "from textblob import TextBlob\n",
    "import os\n",
    "\n",
    "def nlp(text, lang='fr'):\n",
    "    # process and correct the text\n",
    "    blob = TextBlob(str(text))\n",
    "    corrected = blob.correct()\n",
    "\n",
    "    # debug print the text before and after correction\n",
    "    print(f\"Corrected text: {corrected}\\noriginal: {blob}\")\n",
    "\n",
    "    # calculate sentiments\n",
    "    print(f\"Sentiment  polarity={corrected.sentiment.polarity}  subjectivity={corrected.sentiment.subjectivity}\\n\")\n",
    "\n",
    "    # read target language from environment and return translated text\n",
    "    return str(corrected.translate(to=lang))"
   ]
  },
  {
   "cell_type": "code",
   "execution_count": 4,
   "metadata": {},
   "outputs": [],
   "source": [
    "def handler(context, event):\n",
    "    return nlp(event.body)"
   ]
  },
  {
   "cell_type": "code",
   "execution_count": 5,
   "metadata": {},
   "outputs": [],
   "source": [
    "# nuclio: end-code"
   ]
  },
  {
   "cell_type": "markdown",
   "metadata": {},
   "source": [
    "### Test with file path and target language "
   ]
  },
  {
   "cell_type": "code",
   "execution_count": 6,
   "metadata": {},
   "outputs": [
    {
     "name": "stdout",
     "output_type": "stream",
     "text": [
      "Corrected text: good morning\n",
      "original: good morningg\n",
      "Sentiment  polarity=0.7  subjectivity=0.6000000000000001\n",
      "\n"
     ]
    },
    {
     "data": {
      "text/plain": [
       "'Buenos días'"
      ]
     },
     "execution_count": 6,
     "metadata": {},
     "output_type": "execute_result"
    }
   ],
   "source": [
    "nlp('good morningg', 'es')"
   ]
  },
  {
   "cell_type": "markdown",
   "metadata": {},
   "source": [
    "## Turn the code into a realtime micro-service (with NFS Mount)"
   ]
  },
  {
   "cell_type": "code",
   "execution_count": 7,
   "metadata": {},
   "outputs": [],
   "source": [
    "import mlrun\n",
    "fn = mlrun.code_to_function('my_nlp', kind=\"nuclio\", description=\"nlp example\")"
   ]
  },
  {
   "cell_type": "code",
   "execution_count": 10,
   "metadata": {},
   "outputs": [
    {
     "name": "stdout",
     "output_type": "stream",
     "text": [
      "> 2020-11-16 01:28:34,994 [info] deploy started\n",
      "[nuclio] 2020-11-16 01:29:01,898 (info) Build complete\n",
      "[nuclio] 2020-11-16 01:29:02,988 Failed to deploy. Details:\n",
      "\n",
      "Error - Container exited with status: 2\n",
      "    /nuclio/pkg/dockerclient/shell.go:403\n",
      "\n",
      "Call stack:\n",
      "Container exited with status: 2\n",
      "    /nuclio/pkg/dockerclient/shell.go:403\n",
      "Container 408b3e9f46e3e82172b80e65f238e1ef13813926515bdc3685f3a8cb7536d80d is not healthy\n",
      "    /nuclio/pkg/dockerclient/shell.go:435\n",
      "Function wasn't ready in time. Logs:\n",
      "20.11.16 01:29:01.779 \u001b[0;37m                processor\u001b[0m \u001b[0;34m(I)\u001b[0m Starting processor {\"version\": \"Label: 1.5.4, Git commit: 41f4c1b4274b7ecd0b2420e01644351f4c0b007a, OS: linux, Arch: amd64, Go version: go1.14.3\"}\n",
      "20.11.16 01:29:01.779 \u001b[0;37m                processor\u001b[0m \u001b[0;32m(D)\u001b[0m Read configuration {\"config\": \"{\\n    \\\"metadata\\\": {\\n        \\\"name\\\": \\\"default-my-nlp\\\",\\n        \\\"namespace\\\": \\\"nuclio\\\",\\n        \\\"labels\\\": {\\n            \\\"mlrun/class\\\": \\\"remote\\\",\\n            \\\"nuclio.io/project-name\\\": \\\"default\\\"\\n        },\\n        \\\"annotations\\\": {\\n            \\\"nuclio.io/generated_by\\\": \\\"function generated from 16-11-2020\\\"\\n        }\\n    },\\n    \\\"spec\\\": {\\n        \\\"handler\\\": \\\"nlp (1):handler\\\",\\n        \\\"runtime\\\": \\\"python:3.6\\\",\\n        \\\"resources\\\": {},\\n        \\\"image\\\": \\\"nuclio/processor-default-my-nlp:latest\\\",\\n        \\\"minReplicas\\\": 1,\\n        \\\"maxReplicas\\\": 4,\\n        \\\"triggers\\\": {\\n            \\\"default-http\\\": {\\n                \\\"class\\\": \\\"\\\",\\n                \\\"kind\\\": \\\"http\\\",\\n                \\\"name\\\": \\\"default-http\\\",\\n                \\\"maxWorkers\\\": 1\\n            }\\n        },\\n        \\\"build\\\": {\\n            \\\"functionSourceCode\\\": \\\"IyBHZW5lcmF0ZWQgYnkgbnVjbGlvLmV4cG9ydC5OdWNsaW9FeHBvcnRlcgoKZnJvbSB0ZXh0YmxvYiBpbXBvcnQgVGV4dEJsb2IKaW1wb3J0IG9zCgpkZWYgbmxwKHRleHQsIGxhbmc9J2ZyJyk6CiAgICBibG9iID0gVGV4dEJsb2Ioc3RyKHRleHQpKQogICAgY29ycmVjdGVkID0gYmxvYi5jb3JyZWN0KCkKCiAgICBwcmludChmIkNvcnJlY3RlZCB0ZXh0OiB7Y29ycmVjdGVkfVxub3JpZ2luYWw6IHtibG9ifSIpCgogICAgcHJpbnQoZiJTZW50aW1lbnQgIHBvbGFyaXR5PXtjb3JyZWN0ZWQuc2VudGltZW50LnBvbGFyaXR5fSAgc3ViamVjdGl2aXR5PXtjb3JyZWN0ZWQuc2VudGltZW50LnN1YmplY3Rpdml0eX1cbiIpCgogICAgcmV0dXJuIHN0cihjb3JyZWN0ZWQudHJhbnNsYXRlKHRvPWxhbmcpKQoKZGVmIGhhbmRsZXIoY29udGV4dCwgZXZlbnQpOgogICAgcmV0dXJuIG5scChldmVudC5ib2R5KQoK\\\",\\n            \\\"baseImage\\\": \\\"mlrun/mlrun:0.5.4\\\",\\n            \\\"commands\\\": [\\n                \\\"pip install textblob\\\"\\n            ],\\n            \\\"codeEntryType\\\": \\\"sourceCode\\\",\\n            \\\"timestamp\\\": 1605490141\\n        },\\n        \\\"platform\\\": {},\\n        \\\"serviceType\\\": \\\"NodePort\\\",\\n        \\\"eventTimeout\\\": \\\"\\\"\\n    },\\n    \\\"PlatformConfig\\\": null\\n}\", \"platformConfig\": \"{\\n    \\\"kind\\\": \\\"local\\\",\\n    \\\"webAdmin\\\": {\\n        \\\"enabled\\\": true,\\n        \\\"listenAddress\\\": \\\":8081\\\"\\n    },\\n    \\\"healthCheck\\\": {\\n        \\\"enabled\\\": true,\\n        \\\"listenAddress\\\": \\\":8082\\\"\\n    },\\n    \\\"logger\\\": {\\n        \\\"sinks\\\": {\\n            \\\"stdout\\\": {\\n                \\\"kind\\\": \\\"stdout\\\"\\n            }\\n        },\\n        \\\"system\\\": [\\n            {\\n                \\\"level\\\": \\\"debug\\\",\\n                \\\"sink\\\": \\\"stdout\\\"\\n            }\\n        ],\\n        \\\"functions\\\": [\\n            {\\n                \\\"level\\\": \\\"debug\\\",\\n                \\\"sink\\\": \\\"stdout\\\"\\n            }\\n        ]\\n    },\\n    \\\"metrics\\\": {},\\n    \\\"scaleToZero\\\": {},\\n    \\\"autoScale\\\": {},\\n    \\\"cronTriggerCreationMode\\\": \\\"processor\\\",\\n    \\\"ingressConfig\\\": {},\\n    \\\"kube\\\": {\\n        \\\"defaultServiceType\\\": \\\"ClusterIP\\\"\\n    }\\n}\"}\n",
      "20.11.16 01:29:01.779 \u001b[0;37mcessor.healthcheck.server\u001b[0m \u001b[0;34m(I)\u001b[0m Listening {\"listenAddress\": \":8082\"}\n",
      "20.11.16 01:29:01.779 \u001b[0;37m           processor.http\u001b[0m \u001b[0;32m(D)\u001b[0m Creating worker pool {\"num\": 1}\n",
      "20.11.16 01:29:01.779 \u001b[0;37msor.http.w0.python.logger\u001b[0m \u001b[0;32m(D)\u001b[0m Creating listener socket {\"path\": \"/tmp/nuclio-rpc-buotbne3ff6sp85l2qn0.sock\"}\n",
      "20.11.16 01:29:01.780 \u001b[0;37msor.http.w0.python.logger\u001b[0m \u001b[0;32m(D)\u001b[0m Using Python wrapper script path {\"path\": \"/opt/nuclio/_nuclio_wrapper.py\"}\n",
      "20.11.16 01:29:01.780 \u001b[0;37msor.http.w0.python.logger\u001b[0m \u001b[0;32m(D)\u001b[0m Using Python handler {\"handler\": \"nlp (1):handler\"}\n",
      "20.11.16 01:29:01.780 \u001b[0;37msor.http.w0.python.logger\u001b[0m \u001b[0;32m(D)\u001b[0m Using Python executable {\"path\": \"/usr/local/bin/python3\"}\n",
      "20.11.16 01:29:01.780 \u001b[0;37msor.http.w0.python.logger\u001b[0m \u001b[0;32m(D)\u001b[0m Setting PYTHONPATH {\"value\": \"PYTHONPATH=/opt/nuclio\"}\n",
      "20.11.16 01:29:01.780 \u001b[0;37msor.http.w0.python.logger\u001b[0m \u001b[0;32m(D)\u001b[0m Running wrapper {\"command\": \"/usr/local/bin/python3 -u /opt/nuclio/_nuclio_wrapper.py --handler nlp (1):handler --socket-path /tmp/nuclio-rpc-buotbne3ff6sp85l2qn0.sock --platform-kind local --namespace nuclio --worker-id 0 --trigger-kind http --trigger-name default-http\"}\n",
      "l{\"datetime\": \"2020-11-16 01:29:01,854\", \"level\": \"error\", \"message\": \"Caught unhandled exception while initializing\", \"with\": {\"err\": \"Malformed handler - 'nlp (1):handler'\", \"traceback\": \"Traceback (most recent call last):\\n  File \\\"/opt/nuclio/_nuclio_wrapper.py\\\", line 325, in run_wrapper\\n    args.trigger_name)\\n  File \\\"/opt/nuclio/_nuclio_wrapper.py\\\", line 56, in __init__\\n    self._entrypoint = self._load_entrypoint_from_handler(handler)\\n  File \\\"/opt/nuclio/_nuclio_wrapper.py\\\", line 139, in _load_entrypoint_from_handler\\n    raise ValueError('Malformed handler - {!r}'.format(handler))\\nValueError: Malformed handler - 'nlp (1):handler'\\n\", \"worker_id\": \"0\"}}\n",
      "20.11.16 01:29:01.862 \u001b[0;37msor.http.w0.python.logger\u001b[0m \u001b[0;31m(E)\u001b[0m Unexpected termination of child process {\"error\": null, \"status\": \"exit status 1\"}\n",
      "panic: Wrapper process for worker 0 exited unexpectedly with: exit status 1\n",
      "\n",
      "goroutine 30 [running]:\n",
      "github.com/nuclio/nuclio/pkg/processor/runtime/rpc.(*AbstractRuntime).watchWrapperProcess(0xc000194580)\n",
      "\t/nuclio/pkg/processor/runtime/rpc/abstract.go:454 +0x509\n",
      "created by github.com/nuclio/nuclio/pkg/processor/runtime/rpc.(*AbstractRuntime).startWrapper\n",
      "\t/nuclio/pkg/processor/runtime/rpc/abstract.go:233 +0x1b5\n",
      "\n",
      "    /nuclio/pkg/platform/local/platform.go:984\n",
      "\n"
     ]
    },
    {
     "ename": "DeployError",
     "evalue": "cannot deploy ",
     "output_type": "error",
     "traceback": [
      "\u001b[0;31m\u001b[0m",
      "\u001b[0;31mDeployError\u001b[0mTraceback (most recent call last)",
      "\u001b[0;32m<ipython-input-10-7605fa2dfd56>\u001b[0m in \u001b[0;36m<module>\u001b[0;34m\u001b[0m\n\u001b[0;32m----> 1\u001b[0;31m \u001b[0mfn\u001b[0m\u001b[0;34m.\u001b[0m\u001b[0mdeploy\u001b[0m\u001b[0;34m(\u001b[0m\u001b[0mdashboard\u001b[0m\u001b[0;34m=\u001b[0m\u001b[0;34m'http://nuclio:8070'\u001b[0m\u001b[0;34m)\u001b[0m\u001b[0;34m\u001b[0m\u001b[0;34m\u001b[0m\u001b[0m\n\u001b[0m",
      "\u001b[0;32m/opt/conda/lib/python3.8/site-packages/mlrun/runtimes/function.py\u001b[0m in \u001b[0;36mdeploy\u001b[0;34m(self, dashboard, project, tag, verbose)\u001b[0m\n\u001b[1;32m    283\u001b[0m         \u001b[0;32melse\u001b[0m\u001b[0;34m:\u001b[0m\u001b[0;34m\u001b[0m\u001b[0;34m\u001b[0m\u001b[0m\n\u001b[1;32m    284\u001b[0m             \u001b[0mself\u001b[0m\u001b[0;34m.\u001b[0m\u001b[0msave\u001b[0m\u001b[0;34m(\u001b[0m\u001b[0mversioned\u001b[0m\u001b[0;34m=\u001b[0m\u001b[0;32mFalse\u001b[0m\u001b[0;34m)\u001b[0m\u001b[0;34m\u001b[0m\u001b[0;34m\u001b[0m\u001b[0m\n\u001b[0;32m--> 285\u001b[0;31m             \u001b[0maddress\u001b[0m \u001b[0;34m=\u001b[0m \u001b[0mdeploy_nuclio_function\u001b[0m\u001b[0;34m(\u001b[0m\u001b[0mself\u001b[0m\u001b[0;34m,\u001b[0m \u001b[0mdashboard\u001b[0m\u001b[0;34m=\u001b[0m\u001b[0mdashboard\u001b[0m\u001b[0;34m,\u001b[0m \u001b[0mwatch\u001b[0m\u001b[0;34m=\u001b[0m\u001b[0;32mTrue\u001b[0m\u001b[0;34m)\u001b[0m\u001b[0;34m\u001b[0m\u001b[0;34m\u001b[0m\u001b[0m\n\u001b[0m\u001b[1;32m    286\u001b[0m             \u001b[0;32mif\u001b[0m \u001b[0maddress\u001b[0m\u001b[0;34m:\u001b[0m\u001b[0;34m\u001b[0m\u001b[0;34m\u001b[0m\u001b[0m\n\u001b[1;32m    287\u001b[0m                 \u001b[0mself\u001b[0m\u001b[0;34m.\u001b[0m\u001b[0mspec\u001b[0m\u001b[0;34m.\u001b[0m\u001b[0mcommand\u001b[0m \u001b[0;34m=\u001b[0m \u001b[0;34m\"http://{}\"\u001b[0m\u001b[0;34m.\u001b[0m\u001b[0mformat\u001b[0m\u001b[0;34m(\u001b[0m\u001b[0maddress\u001b[0m\u001b[0;34m)\u001b[0m\u001b[0;34m\u001b[0m\u001b[0;34m\u001b[0m\u001b[0m\n",
      "\u001b[0;32m/opt/conda/lib/python3.8/site-packages/mlrun/runtimes/function.py\u001b[0m in \u001b[0;36mdeploy_nuclio_function\u001b[0;34m(function, dashboard, watch)\u001b[0m\n\u001b[1;32m    551\u001b[0m         \u001b[0mfunction\u001b[0m\u001b[0;34m.\u001b[0m\u001b[0mstatus\u001b[0m\u001b[0;34m.\u001b[0m\u001b[0mnuclio_name\u001b[0m \u001b[0;34m=\u001b[0m \u001b[0mname\u001b[0m\u001b[0;34m\u001b[0m\u001b[0;34m\u001b[0m\u001b[0m\n\u001b[1;32m    552\u001b[0m         \u001b[0mupdate_in\u001b[0m\u001b[0;34m(\u001b[0m\u001b[0mconfig\u001b[0m\u001b[0;34m,\u001b[0m \u001b[0;34m\"metadata.name\"\u001b[0m\u001b[0;34m,\u001b[0m \u001b[0mname\u001b[0m\u001b[0;34m)\u001b[0m\u001b[0;34m\u001b[0m\u001b[0;34m\u001b[0m\u001b[0m\n\u001b[0;32m--> 553\u001b[0;31m         return nuclio.deploy.deploy_config(\n\u001b[0m\u001b[1;32m    554\u001b[0m             \u001b[0mconfig\u001b[0m\u001b[0;34m,\u001b[0m\u001b[0;34m\u001b[0m\u001b[0;34m\u001b[0m\u001b[0m\n\u001b[1;32m    555\u001b[0m             \u001b[0mdashboard\u001b[0m\u001b[0;34m,\u001b[0m\u001b[0;34m\u001b[0m\u001b[0;34m\u001b[0m\u001b[0m\n",
      "\u001b[0;32m/opt/conda/lib/python3.8/site-packages/nuclio/deploy.py\u001b[0m in \u001b[0;36mdeploy_config\u001b[0;34m(config, dashboard_url, name, project, tag, verbose, create_new, watch)\u001b[0m\n\u001b[1;32m    277\u001b[0m         \u001b[0;32mif\u001b[0m \u001b[0mstate\u001b[0m \u001b[0;34m!=\u001b[0m \u001b[0;34m'ready'\u001b[0m\u001b[0;34m:\u001b[0m\u001b[0;34m\u001b[0m\u001b[0;34m\u001b[0m\u001b[0m\n\u001b[1;32m    278\u001b[0m             \u001b[0mlog\u001b[0m\u001b[0;34m(\u001b[0m\u001b[0;34m'ERROR: {}'\u001b[0m\u001b[0;34m.\u001b[0m\u001b[0mformat\u001b[0m\u001b[0;34m(\u001b[0m\u001b[0mresp\u001b[0m\u001b[0;34m.\u001b[0m\u001b[0mtext\u001b[0m\u001b[0;34m)\u001b[0m\u001b[0;34m)\u001b[0m\u001b[0;34m\u001b[0m\u001b[0;34m\u001b[0m\u001b[0m\n\u001b[0;32m--> 279\u001b[0;31m             \u001b[0;32mraise\u001b[0m \u001b[0mDeployError\u001b[0m\u001b[0;34m(\u001b[0m\u001b[0;34m'cannot deploy '\u001b[0m \u001b[0;34m+\u001b[0m \u001b[0mresp\u001b[0m\u001b[0;34m.\u001b[0m\u001b[0mtext\u001b[0m\u001b[0;34m)\u001b[0m\u001b[0;34m\u001b[0m\u001b[0;34m\u001b[0m\u001b[0m\n\u001b[0m\u001b[1;32m    280\u001b[0m \u001b[0;34m\u001b[0m\u001b[0m\n\u001b[1;32m    281\u001b[0m         \u001b[0mlogger\u001b[0m\u001b[0;34m.\u001b[0m\u001b[0minfo\u001b[0m\u001b[0;34m(\u001b[0m\u001b[0;34m'done %s %s, function address: %s'\u001b[0m\u001b[0;34m,\u001b[0m \u001b[0mverb\u001b[0m\u001b[0;34m,\u001b[0m \u001b[0mname\u001b[0m\u001b[0;34m,\u001b[0m \u001b[0maddress\u001b[0m\u001b[0;34m)\u001b[0m\u001b[0;34m\u001b[0m\u001b[0;34m\u001b[0m\u001b[0m\n",
      "\u001b[0;31mDeployError\u001b[0m: cannot deploy "
     ]
    }
   ],
   "source": [
    "fn.deploy(dashboard='http://nuclio:8070')"
   ]
  },
  {
   "cell_type": "code",
   "execution_count": 34,
   "metadata": {},
   "outputs": [
    {
     "data": {
      "text/plain": [
       "b\"b 'bonne soir\\xc3\\xa9e'\""
      ]
     },
     "execution_count": 34,
     "metadata": {},
     "output_type": "execute_result"
    }
   ],
   "source": [
    "fn.invoke('', body='good evening')"
   ]
  },
  {
   "cell_type": "code",
   "execution_count": null,
   "metadata": {},
   "outputs": [],
   "source": []
  }
 ],
 "metadata": {
  "kernelspec": {
   "display_name": "Python 3",
   "language": "python",
   "name": "python3"
  },
  "language_info": {
   "codemirror_mode": {
    "name": "ipython",
    "version": 3
   },
   "file_extension": ".py",
   "mimetype": "text/x-python",
   "name": "python",
   "nbconvert_exporter": "python",
   "pygments_lexer": "ipython3",
   "version": "3.8.6"
  }
 },
 "nbformat": 4,
 "nbformat_minor": 4
}
